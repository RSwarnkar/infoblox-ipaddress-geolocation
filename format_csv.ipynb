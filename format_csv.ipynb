{
 "cells": [
  {
   "cell_type": "markdown",
   "metadata": {},
   "source": [
    "## `format_csv.py`\n",
    "1. Read the csv file from the `Input/gnoc_networks.csv`\n",
    "2. Remove all the lines which are non-standard CSV for Pandas\n",
    "3. Write file to gnoc_networks_validate.csv"
   ]
  },
  {
   "cell_type": "code",
   "execution_count": 2,
   "metadata": {},
   "outputs": [],
   "source": [
    "import logging\n",
    "  \n",
    "#Create and configure logger \n",
    "logging.basicConfig(filename=\"Logs/IP2GeoMapping.log\", format='%(asctime)s %(message)s', filemode='a+') \n",
    "logger=logging.getLogger() \n",
    "\n",
    "#Setting the threshold of logger to DEBUG \n",
    "logger.setLevel(logging.INFO) \n",
    "\n",
    "logger.info(\"===================================================================================================\")\n",
    "logger.info(\"                                         IP2GeoMapping\")\n",
    "logger.info(\"===================================================================================================\")\n",
    "\n",
    "\n",
    "#Test messages \n",
    "#logger.debug(\"debug\") \n",
    "#logger.info(\"Info\") \n",
    "#logger.warning(\"Warning\") \n",
    "#logger.error(\"error\") \n",
    "#logger.critical(\"critical\") "
   ]
  },
  {
   "cell_type": "code",
   "execution_count": 3,
   "metadata": {},
   "outputs": [],
   "source": [
    "logger.debug(\"Reading Input/gnoc_networks.csv\")\n",
    "\n",
    "infile = open(\"Input/gnoc_networks.csv\", \"r\")\n",
    "\n",
    "Lines = infile.readlines()\n",
    "\n",
    "logger.info(\"Number of lines in gnoc_networks.csv: \"+str(len(Lines)))\n",
    "\n",
    "logger.info(\"Writing to Output/output01-gnoc_networks-formatted.csv\")\n",
    "\n",
    "outfile = open('Output/output01-gnoc_networks-formatted.csv', 'w')\n",
    "\n",
    "logger.info(\"Starting csv validation process\")\n",
    "\n",
    "invalid_entry_count = 0\n",
    "\n",
    "DELIMIT_CHAR = ';' # Magic Number\n",
    "NUMBER_OF_DELIM_CHAR_PER_CSVLINE = 11  # Magic Number\n",
    "\n",
    "for line in Lines:\n",
    "    #print(line.strip())\n",
    "    #print(\"Line{}: {}\".format(count, line.strip()))\n",
    "    #print(line.count(';'))\n",
    "    \n",
    "    line = line.replace('\\r\\n','')\n",
    "    line = line.replace('\\n','')\n",
    "    \n",
    "    if(line.count(DELIMIT_CHAR)!=NUMBER_OF_DELIM_CHAR_PER_CSVLINE):\n",
    "        invalid_entry_count = invalid_entry_count+1\n",
    "        logger.warning(\"Found invalid line in CSV: {\"+line+\"}\")\n",
    "        \n",
    "    else:\n",
    "        line=line.replace('\"','') #Remove Double quoted strings in each line\n",
    "        outfile.writelines(line+\"\\n\")\n",
    "\n",
    "outfile.close()             \n",
    "logger.warning(\"Found \"+str(invalid_entry_count)+\" invalid entries in original dataset out of total \"+str(len(Lines)))\n"
   ]
  },
  {
   "cell_type": "code",
   "execution_count": null,
   "metadata": {},
   "outputs": [],
   "source": []
  }
 ],
 "metadata": {
  "kernelspec": {
   "display_name": "Python 3",
   "language": "python",
   "name": "python3"
  },
  "language_info": {
   "codemirror_mode": {
    "name": "ipython",
    "version": 3
   },
   "file_extension": ".py",
   "mimetype": "text/x-python",
   "name": "python",
   "nbconvert_exporter": "python",
   "pygments_lexer": "ipython3",
   "version": "3.7.4"
  }
 },
 "nbformat": 4,
 "nbformat_minor": 2
}
