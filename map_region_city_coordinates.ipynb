{
 "cells": [
  {
   "cell_type": "markdown",
   "metadata": {},
   "source": [
    "## `map_region_city_coordinates.py`\n",
    "1. Read the csv file from the `Output/output03-gnoc_networks-countrycodes.csv` into pandas dataframe\n",
    "2. Add new column CountryCode in dataframe by performing jmespath search in `CityDatabase/regions.json` \n",
    "3. Write file to `Output/output04-gnoc_networks-region_city_coordinates.csv`"
   ]
  },
  {
   "cell_type": "code",
   "execution_count": 1,
   "metadata": {},
   "outputs": [],
   "source": [
    "import pandas as pd\n",
    "import json\n",
    "import jmespath\n",
    "import numpy as np\n",
    "import os.path\n",
    "import time\n",
    "\n"
   ]
  },
  {
   "cell_type": "code",
   "execution_count": 2,
   "metadata": {},
   "outputs": [],
   "source": [
    "df = pd.read_csv(\"Output/output03-gnoc_networks-countrycodes.csv\", encoding='utf8', sep=';')"
   ]
  },
  {
   "cell_type": "code",
   "execution_count": 3,
   "metadata": {},
   "outputs": [
    {
     "data": {
      "text/html": [
       "<div>\n",
       "<style scoped>\n",
       "    .dataframe tbody tr th:only-of-type {\n",
       "        vertical-align: middle;\n",
       "    }\n",
       "\n",
       "    .dataframe tbody tr th {\n",
       "        vertical-align: top;\n",
       "    }\n",
       "\n",
       "    .dataframe thead th {\n",
       "        text-align: right;\n",
       "    }\n",
       "</style>\n",
       "<table border=\"1\" class=\"dataframe\">\n",
       "  <thead>\n",
       "    <tr style=\"text-align: right;\">\n",
       "      <th></th>\n",
       "      <th>Network</th>\n",
       "      <th>City</th>\n",
       "      <th>Country</th>\n",
       "      <th>CountryCode</th>\n",
       "    </tr>\n",
       "  </thead>\n",
       "  <tbody>\n",
       "    <tr>\n",
       "      <th>7051</th>\n",
       "      <td>10.129.5.0/24</td>\n",
       "      <td>Buenos Aires</td>\n",
       "      <td>Argentina</td>\n",
       "      <td>AR</td>\n",
       "    </tr>\n",
       "    <tr>\n",
       "      <th>7046</th>\n",
       "      <td>10.129.13.0/24</td>\n",
       "      <td>Buenos Aires</td>\n",
       "      <td>Argentina</td>\n",
       "      <td>AR</td>\n",
       "    </tr>\n",
       "    <tr>\n",
       "      <th>10184</th>\n",
       "      <td>10.129.9.128/27</td>\n",
       "      <td>FW-unknown</td>\n",
       "      <td>Argentina</td>\n",
       "      <td>AR</td>\n",
       "    </tr>\n",
       "    <tr>\n",
       "      <th>10185</th>\n",
       "      <td>10.129.36.0/25</td>\n",
       "      <td>FW-unknown</td>\n",
       "      <td>Argentina</td>\n",
       "      <td>AR</td>\n",
       "    </tr>\n",
       "    <tr>\n",
       "      <th>10186</th>\n",
       "      <td>10.129.32.128/27</td>\n",
       "      <td>FW-unknown</td>\n",
       "      <td>Argentina</td>\n",
       "      <td>AR</td>\n",
       "    </tr>\n",
       "  </tbody>\n",
       "</table>\n",
       "</div>"
      ],
      "text/plain": [
       "                Network          City    Country CountryCode\n",
       "7051      10.129.5.0/24  Buenos Aires  Argentina          AR\n",
       "7046     10.129.13.0/24  Buenos Aires  Argentina          AR\n",
       "10184   10.129.9.128/27    FW-unknown  Argentina          AR\n",
       "10185    10.129.36.0/25    FW-unknown  Argentina          AR\n",
       "10186  10.129.32.128/27    FW-unknown  Argentina          AR"
      ]
     },
     "execution_count": 3,
     "metadata": {},
     "output_type": "execute_result"
    }
   ],
   "source": [
    "df.sort_values(by=['Country'],inplace=True)\n",
    "df.head()"
   ]
  },
  {
   "cell_type": "code",
   "execution_count": 4,
   "metadata": {},
   "outputs": [
    {
     "name": "stdout",
     "output_type": "stream",
     "text": [
      "Himachal Pradesh\n",
      "Uttar Pradesh\n",
      "['Himachal Pradesh', 'Uttar Pradesh']\n"
     ]
    }
   ],
   "source": [
    "#### TESTING ###############\n",
    "\n",
    "filename = \"CityDatabase/Cities/\"+str(\"IN\")+\".json\"\n",
    "regions = open(filename, mode='r',encoding =\"utf8\")\n",
    "data = json.load(regions, encoding=\"utf8\")\n",
    "\n",
    "cityname = \"Rampur\"\n",
    "\n",
    "\n",
    "latitude_query = \"\"\"regions[*].cities[?name=='\"\"\"+cityname+\"\"\"'].latitude\"\"\"\n",
    "longitude_query = \"\"\"regions[*].cities[?name=='\"\"\"+cityname+\"\"\"'].longitude\"\"\"\n",
    "cityname_query = \"\"\"regions[*].cities[?name=='\"\"\"+cityname+\"\"\"'].name\"\"\"\n",
    "\n",
    "region_query = \"\"\"regions[].{region_name: name, city_names: cities[?name=='\"\"\"+cityname+\"\"\"'].name[]}\"\"\"\n",
    "\n",
    "\n",
    "path = jmespath.search(region_query,data)\n",
    "\n",
    "# path = [x for x in path if x != []]\n",
    "\n",
    "for x in path:\n",
    "    if(x['city_names']): \n",
    "        print(x['region_name'])\n",
    "\n",
    "q = [x['region_name'] for x in path if (x['city_names'])]  \n",
    "\n",
    "print(q)\n",
    "\n",
    "regions.close()\n"
   ]
  },
  {
   "cell_type": "code",
   "execution_count": null,
   "metadata": {},
   "outputs": [],
   "source": [
    "def search_latitude(x):\n",
    "    filename = \"CityDatabase/Cities/\"+str(x['CountryCode'])+\".json\"\n",
    "\n",
    "    if(os.path.exists(filename)==True):\n",
    "        regions = open(filename, mode='r',encoding =\"utf8\")\n",
    "        data = json.load(regions, encoding=\"utf8\")\n",
    "\n",
    "        latitude_query  = \"\"\"regions[*].cities[?name=='\"\"\"+str(x['City'])+\"\"\"'].latitude\"\"\"\n",
    "        \n",
    "        path = jmespath.search(latitude_query,data)\n",
    "        path = [y for y in path if y != []]\n",
    "        \n",
    "        if(len(path)==0): # City is not present in JSON file, hence return null\n",
    "            #print(\"City not present in list\")\n",
    "            return(str(np.nan))\n",
    "        elif(len(path)==1): # Exactly 1 match is found, hence return latitude\n",
    "            #print(\"Returning latitude\")\n",
    "            return path[0][0]\n",
    "        elif(len(path)>1): # More than 1 city found, hence ambiguity about the region and lat-long\n",
    "            #print(\"I am not that smart\")\n",
    "            return(str(np.nan))\n",
    "        data =\"\"\n",
    "        regions.close()\n",
    "    else:\n",
    "        return(str(np.nan))\n",
    "    \n",
    "start = time.time()\n",
    "df['Latitude'] = df[['CountryCode','City']].apply(search_latitude,axis=1) \n",
    "end = time.time()\n",
    "\n",
    "print(end - start)\n",
    "\n",
    "# 678 seconds for 14k entries\n",
    "# sorting the data by city: 382 sec"
   ]
  },
  {
   "cell_type": "code",
   "execution_count": null,
   "metadata": {},
   "outputs": [],
   "source": [
    "def search_longitude(x):\n",
    "    filename = \"CityDatabase/Cities/\"+str(x['CountryCode'])+\".json\"\n",
    "\n",
    "    if(os.path.exists(filename)==True):\n",
    "        regions = open(filename, mode='r',encoding =\"utf8\")\n",
    "        data = json.load(regions, encoding=\"utf8\")\n",
    "\n",
    "        longitude_query  = \"\"\"regions[*].cities[?name=='\"\"\"+str(x['City'])+\"\"\"'].longitude\"\"\"\n",
    "        \n",
    "        path = jmespath.search(longitude_query,data)\n",
    "        path = [y for y in path if y != []]\n",
    "        \n",
    "        if(len(path)==0): # City is not present in JSON file, hence return null\n",
    "            #print(\"City not present in list\")\n",
    "            return(str(np.nan))\n",
    "        elif(len(path)==1): # Exactly 1 match is found, hence return longitude\n",
    "            #print(\"Returning latitude\")\n",
    "            return path[0][0]\n",
    "        elif(len(path)>1): # More than 1 city found, hence ambiguity about the region and lat-long\n",
    "            #print(\"I am not that smart\")\n",
    "            return(str(np.nan))\n",
    "        data =\"\"\n",
    "        regions.close()\n",
    "    else:\n",
    "        return(str(np.nan))\n",
    "    \n",
    "start = time.time()\n",
    "df['Longitude'] = df[['CountryCode','City']].apply(search_longitude,axis=1)\n",
    "end = time.time()\n",
    "print(end - start)\n",
    "\n",
    "# 684 seconds for 14k entries\n",
    "# sorting helps 386 sec"
   ]
  },
  {
   "cell_type": "code",
   "execution_count": null,
   "metadata": {},
   "outputs": [],
   "source": [
    "def search_region(x):\n",
    "    \n",
    "    filename = \"CityDatabase/Cities/\"+str(x['CountryCode'])+\".json\"\n",
    "\n",
    "    if(os.path.exists(filename)==True):\n",
    "        regions = open(filename, mode='r',encoding =\"utf8\")\n",
    "        data = json.load(regions, encoding=\"utf8\")\n",
    "\n",
    "        region_query = \"\"\"regions[].{region_name: name, city_names: cities[?name=='\"\"\"+str(x['City'])+\"\"\"'].name[]}\"\"\"\n",
    "\n",
    "        path = jmespath.search(region_query,data)\n",
    "        q = [x['region_name'] for x in path if (x['city_names'])]   # frigging list comprehension\n",
    "        \n",
    "        if(len(q)==0): # Region is not found in JSON file, hence return null\n",
    "            #print(\"Region is not present in list\")\n",
    "            return(str(np.nan))\n",
    "        \n",
    "        elif(len(q)==1): # Exactly 1 match is found, hence return region\n",
    "            #print(\"Returning latitude\")\n",
    "            return str(q[0])\n",
    "        \n",
    "        elif(len(q)>1): # More than 1 regions found, hence ambiguity about the region\n",
    "            #print(\"I am not that smart\")\n",
    "            return(str(np.nan))\n",
    "        data =\"\"\n",
    "        regions.close()\n",
    "        \n",
    "    else:\n",
    "        return(str(np.nan)) # If json file does not exists, we cannot search region\n",
    "\n",
    "\n",
    "\n",
    "start = time.time()\n",
    "df['Region'] = df[['CountryCode','City']].apply(search_region,axis=1)\n",
    "end = time.time()\n",
    "print(end - start)\n",
    "\n",
    "\n",
    "# 390 seconds for 14k entries"
   ]
  },
  {
   "cell_type": "code",
   "execution_count": null,
   "metadata": {},
   "outputs": [],
   "source": [
    "df.head()"
   ]
  },
  {
   "cell_type": "code",
   "execution_count": null,
   "metadata": {},
   "outputs": [],
   "source": [
    "df.to_csv(\"Output/output04-gnoc_networks-region_city_coordinates.csv\", encoding=\"utf8\", index=False)"
   ]
  },
  {
   "cell_type": "code",
   "execution_count": null,
   "metadata": {},
   "outputs": [],
   "source": []
  }
 ],
 "metadata": {
  "kernelspec": {
   "display_name": "Python 3",
   "language": "python",
   "name": "python3"
  },
  "language_info": {
   "codemirror_mode": {
    "name": "ipython",
    "version": 3
   },
   "file_extension": ".py",
   "mimetype": "text/x-python",
   "name": "python",
   "nbconvert_exporter": "python",
   "pygments_lexer": "ipython3",
   "version": "3.7.4"
  }
 },
 "nbformat": 4,
 "nbformat_minor": 2
}
