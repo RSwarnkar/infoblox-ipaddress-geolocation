{
 "cells": [
  {
   "cell_type": "markdown",
   "metadata": {},
   "source": [
    "# <span style=\"color:#b30000\"> IP2GeoLocation</span>"
   ]
  },
  {
   "cell_type": "markdown",
   "metadata": {},
   "source": [
    "<span style=\"color:#444\">This Notebook creates Private IP to Geo-location mapping which is acceptable in the `Dynatrace Appmon`.</span> <span style=\"color:#444\"> GNOC location is taken from Infoblox API as CSV </span>"
   ]
  },
  {
   "cell_type": "markdown",
   "metadata": {},
   "source": [
    "## Notes\n",
    "1. [Py-Radix](https://pypi.org/project/py-radix/) is python library that stores IPv4 and IPv6 subnets into [Radix tree](https://en.wikipedia.org/wiki/Radix_tree). \n",
    "2. "
   ]
  },
  {
   "cell_type": "markdown",
   "metadata": {},
   "source": [
    "## Algorithm\n",
    "1. Python Imports - NumPy, Pandas, Py-Radix\n",
    "2. Read Mapping into pandas dataframe `validation_df`\n",
    "3. Read GNOC Locations into pandas dataframe `gnoc_df`\n",
    "4. Perform below cleanup into `gnoc_df`\n",
    "5. Perform left merge of `gnoc_df` and `validation_df` on column=`City` into `mapp_df`\n",
    "6. Perform below cleanup on `map_df`  "
   ]
  },
  {
   "cell_type": "markdown",
   "metadata": {},
   "source": [
    "## 1. Python Imports - NumPy, Pandas, Py-Radix"
   ]
  },
  {
   "cell_type": "code",
   "execution_count": 17,
   "metadata": {},
   "outputs": [],
   "source": [
    "import pandas as pd\n",
    "import numpy as np\n",
    "# Py-Radix installation Requires C++14 Build tools on Winbdows\n",
    "# import radix as rx "
   ]
  },
  {
   "cell_type": "markdown",
   "metadata": {},
   "source": [
    "## 2. Read Mapping into pandas dataframe `validation_df`"
   ]
  },
  {
   "cell_type": "code",
   "execution_count": 15,
   "metadata": {
    "scrolled": true
   },
   "outputs": [
    {
     "data": {
      "text/html": [
       "<div>\n",
       "<style scoped>\n",
       "    .dataframe tbody tr th:only-of-type {\n",
       "        vertical-align: middle;\n",
       "    }\n",
       "\n",
       "    .dataframe tbody tr th {\n",
       "        vertical-align: top;\n",
       "    }\n",
       "\n",
       "    .dataframe thead th {\n",
       "        text-align: right;\n",
       "    }\n",
       "</style>\n",
       "<table border=\"1\" class=\"dataframe\">\n",
       "  <thead>\n",
       "    <tr style=\"text-align: right;\">\n",
       "      <th></th>\n",
       "      <th>Country</th>\n",
       "      <th>Region</th>\n",
       "      <th>City</th>\n",
       "    </tr>\n",
       "  </thead>\n",
       "  <tbody>\n",
       "    <tr>\n",
       "      <td>0</td>\n",
       "      <td>Argentina</td>\n",
       "      <td>Buenos Aires</td>\n",
       "      <td>Buenos Aires</td>\n",
       "    </tr>\n",
       "    <tr>\n",
       "      <td>1</td>\n",
       "      <td>Argentina</td>\n",
       "      <td>Buenos Aires</td>\n",
       "      <td>San Telmo</td>\n",
       "    </tr>\n",
       "    <tr>\n",
       "      <td>2</td>\n",
       "      <td>Argentina</td>\n",
       "      <td>Buenos Aires</td>\n",
       "      <td>FW-unknown</td>\n",
       "    </tr>\n",
       "    <tr>\n",
       "      <td>3</td>\n",
       "      <td>Australia</td>\n",
       "      <td>Australian Capital Territory</td>\n",
       "      <td>Canberra</td>\n",
       "    </tr>\n",
       "    <tr>\n",
       "      <td>4</td>\n",
       "      <td>Australia</td>\n",
       "      <td>New South Wales</td>\n",
       "      <td>Sydney</td>\n",
       "    </tr>\n",
       "    <tr>\n",
       "      <td>5</td>\n",
       "      <td>Australia</td>\n",
       "      <td>Victoria</td>\n",
       "      <td>Melbourne</td>\n",
       "    </tr>\n",
       "    <tr>\n",
       "      <td>6</td>\n",
       "      <td>Australia</td>\n",
       "      <td>Victoria</td>\n",
       "      <td>Sale</td>\n",
       "    </tr>\n",
       "    <tr>\n",
       "      <td>7</td>\n",
       "      <td>Australia</td>\n",
       "      <td>New South Wales</td>\n",
       "      <td>Toronto</td>\n",
       "    </tr>\n",
       "    <tr>\n",
       "      <td>8</td>\n",
       "      <td>Australia</td>\n",
       "      <td>Queensland</td>\n",
       "      <td>Fortitude Valley</td>\n",
       "    </tr>\n",
       "    <tr>\n",
       "      <td>9</td>\n",
       "      <td>Australia</td>\n",
       "      <td>New South Wales</td>\n",
       "      <td>Liverpool</td>\n",
       "    </tr>\n",
       "  </tbody>\n",
       "</table>\n",
       "</div>"
      ],
      "text/plain": [
       "     Country                        Region              City\n",
       "0  Argentina                  Buenos Aires      Buenos Aires\n",
       "1  Argentina                  Buenos Aires         San Telmo\n",
       "2  Argentina                  Buenos Aires        FW-unknown\n",
       "3  Australia  Australian Capital Territory          Canberra\n",
       "4  Australia               New South Wales            Sydney\n",
       "5  Australia                      Victoria         Melbourne\n",
       "6  Australia                      Victoria              Sale\n",
       "7  Australia               New South Wales           Toronto\n",
       "8  Australia                    Queensland  Fortitude Valley\n",
       "9  Australia               New South Wales         Liverpool"
      ]
     },
     "execution_count": 15,
     "metadata": {},
     "output_type": "execute_result"
    }
   ],
   "source": [
    "validation_df = pd.read_csv('InputOutput/ValidationTable_v3.csv',sep=';')\n",
    "validation_df.head(10)"
   ]
  },
  {
   "cell_type": "code",
   "execution_count": 16,
   "metadata": {},
   "outputs": [
    {
     "name": "stdout",
     "output_type": "stream",
     "text": [
      "Number of City-Region-Country rows in validation table is = 356\n"
     ]
    }
   ],
   "source": [
    "print(\"Number of City-Region-Country rows in validation table is = \"+str(len(validation_df)))"
   ]
  },
  {
   "cell_type": "code",
   "execution_count": 11,
   "metadata": {},
   "outputs": [],
   "source": [
    "#Read GNOC_Locations.csv, remove useless columns\n",
    "# Remove entries with empty Country names\n",
    "# Remove entries with empty city names\n",
    "# Full OUTER MERGE the table with Validation to create IP-Country-Region-City-Mapping = ICRC_Mapping\n",
    "# In ICRC Mappinng, remove entries where Country names do not match, and check same city name in two countries\n",
    "# RUN the RADIX TABLE ON ICRC_Mapping to create ICRC_Radix Table\n",
    "# Review Radix Table for valid city mappings > Final Table\n",
    "# Use final Table. This Radix Table must be reversed sorted."
   ]
  },
  {
   "cell_type": "code",
   "execution_count": null,
   "metadata": {},
   "outputs": [],
   "source": []
  }
 ],
 "metadata": {
  "kernelspec": {
   "display_name": "Python 3",
   "language": "python",
   "name": "python3"
  },
  "language_info": {
   "codemirror_mode": {
    "name": "ipython",
    "version": 3
   },
   "file_extension": ".py",
   "mimetype": "text/x-python",
   "name": "python",
   "nbconvert_exporter": "python",
   "pygments_lexer": "ipython3",
   "version": "3.7.4"
  }
 },
 "nbformat": 4,
 "nbformat_minor": 2
}
