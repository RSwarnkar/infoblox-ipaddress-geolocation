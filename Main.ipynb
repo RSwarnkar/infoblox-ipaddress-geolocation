{
 "cells": [
  {
   "cell_type": "markdown",
   "metadata": {},
   "source": [
    "# Infloblox to Dynatrace IP address to Geo-location mapping"
   ]
  },
  {
   "cell_type": "markdown",
   "metadata": {},
   "source": [
    "```\n",
    "@author: Rajesh Swarnkar, <rjs.swarnkar@gmail.com>\n",
    "April, 2020\n",
    "```"
   ]
  },
  {
   "cell_type": "markdown",
   "metadata": {},
   "source": [
    "This python program is used for fetching the data from the Infoblox API and mapping IP addresses to geo-locations  "
   ]
  },
  {
   "cell_type": "markdown",
   "metadata": {},
   "source": [
    "# Sequence \n",
    "\n",
    "Sequence of running scripts and their respective input and output\n",
    " \n",
    "\n"
   ]
  },
  {
   "cell_type": "markdown",
   "metadata": {},
   "source": [
    "|Sr |Script               |Input                      |Output                                         |\n",
    "|----     |---                  |---                        |---                                            |\n",
    "|1        |`format_csv.py`      |`Input/gnoc_networks.csv`  |`Output/output01-gnoc_networks-formatted.csv`  |\n",
    "|2        |`drop_columns_csv.py` |`Output/output01-gnoc_networks-formatted.csv`  |`Output/output02-gnoc_networks-colsdropped.csv`  |\n",
    "|3        |`map_countrycodes.py` |`Output/output02-gnoc_networks-colsdropped.csv`  |`Output/output03-gnoc_networks-countrycodes.csv`  |\n",
    "|4        |`map_region_city_coordinates.py` |`Output/output03-gnoc_networks-countrycodes.csv`  |`Output/output04-gnoc_networks-region_city_coordinates.csv`  |\n",
    "\n"
   ]
  },
  {
   "cell_type": "code",
   "execution_count": null,
   "metadata": {},
   "outputs": [],
   "source": []
  }
 ],
 "metadata": {
  "kernelspec": {
   "display_name": "Python 3",
   "language": "python",
   "name": "python3"
  },
  "language_info": {
   "codemirror_mode": {
    "name": "ipython",
    "version": 3
   },
   "file_extension": ".py",
   "mimetype": "text/x-python",
   "name": "python",
   "nbconvert_exporter": "python",
   "pygments_lexer": "ipython3",
   "version": "3.7.4"
  }
 },
 "nbformat": 4,
 "nbformat_minor": 2
}
