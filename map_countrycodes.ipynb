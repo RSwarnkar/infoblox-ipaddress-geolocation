{
 "cells": [
  {
   "cell_type": "markdown",
   "metadata": {},
   "source": [
    "## `map_countrycodes.py`\n",
    "1. Read the csv file from the `Output/output02-gnoc_networks-colsdropped.csv` into pandas dataframe\n",
    "2. Add new column CountryCode in dataframe by performing jmespath search in `CityDatabase/regions.json` \n",
    "3. Write file to `Output/output03-gnoc_networks-countrycodes.csv`"
   ]
  },
  {
   "cell_type": "code",
   "execution_count": 1,
   "metadata": {},
   "outputs": [],
   "source": [
    "import pandas as pd\n",
    "import json\n",
    "import jmespath\n",
    "import numpy as np\n",
    "import os.path\n",
    "import time"
   ]
  },
  {
   "cell_type": "code",
   "execution_count": 2,
   "metadata": {},
   "outputs": [],
   "source": [
    "df = pd.read_csv(\"Output/output02-gnoc_networks-colsdropped.csv\", encoding='utf8', sep=';')"
   ]
  },
  {
   "cell_type": "code",
   "execution_count": 3,
   "metadata": {},
   "outputs": [
    {
     "data": {
      "text/html": [
       "<div>\n",
       "<style scoped>\n",
       "    .dataframe tbody tr th:only-of-type {\n",
       "        vertical-align: middle;\n",
       "    }\n",
       "\n",
       "    .dataframe tbody tr th {\n",
       "        vertical-align: top;\n",
       "    }\n",
       "\n",
       "    .dataframe thead th {\n",
       "        text-align: right;\n",
       "    }\n",
       "</style>\n",
       "<table border=\"1\" class=\"dataframe\">\n",
       "  <thead>\n",
       "    <tr style=\"text-align: right;\">\n",
       "      <th></th>\n",
       "      <th>Network</th>\n",
       "      <th>City</th>\n",
       "      <th>Country</th>\n",
       "    </tr>\n",
       "  </thead>\n",
       "  <tbody>\n",
       "    <tr>\n",
       "      <th>0</th>\n",
       "      <td>10.100.131.0/27</td>\n",
       "      <td>Mumbai</td>\n",
       "      <td>India</td>\n",
       "    </tr>\n",
       "    <tr>\n",
       "      <th>1</th>\n",
       "      <td>10.100.131.160/27</td>\n",
       "      <td>Amsterdam</td>\n",
       "      <td>Netherlands</td>\n",
       "    </tr>\n",
       "    <tr>\n",
       "      <th>2</th>\n",
       "      <td>10.100.132.0/22</td>\n",
       "      <td>Mumbai</td>\n",
       "      <td>India</td>\n",
       "    </tr>\n",
       "    <tr>\n",
       "      <th>3</th>\n",
       "      <td>10.100.136.0/23</td>\n",
       "      <td>Mumbai</td>\n",
       "      <td>India</td>\n",
       "    </tr>\n",
       "    <tr>\n",
       "      <th>4</th>\n",
       "      <td>10.100.138.0/23</td>\n",
       "      <td>Mumbai</td>\n",
       "      <td>India</td>\n",
       "    </tr>\n",
       "  </tbody>\n",
       "</table>\n",
       "</div>"
      ],
      "text/plain": [
       "             Network       City      Country\n",
       "0    10.100.131.0/27     Mumbai        India\n",
       "1  10.100.131.160/27  Amsterdam  Netherlands\n",
       "2    10.100.132.0/22     Mumbai        India\n",
       "3    10.100.136.0/23     Mumbai        India\n",
       "4    10.100.138.0/23     Mumbai        India"
      ]
     },
     "execution_count": 3,
     "metadata": {},
     "output_type": "execute_result"
    }
   ],
   "source": [
    "df.head()"
   ]
  },
  {
   "cell_type": "code",
   "execution_count": 4,
   "metadata": {},
   "outputs": [],
   "source": [
    "import json\n",
    "import jmespath\n",
    "\n",
    "regions = open('CityDatabase/regions.json', encoding =\"utf8\")\n",
    "\n",
    "data = json.load(regions, encoding=\"utf8\") \n",
    "\n",
    "# path = jmespath.search('countries[*].code',data)\n",
    "# print(path)\n",
    "\n"
   ]
  },
  {
   "cell_type": "code",
   "execution_count": 5,
   "metadata": {},
   "outputs": [
    {
     "name": "stdout",
     "output_type": "stream",
     "text": [
      "20.66938090324402\n"
     ]
    }
   ],
   "source": [
    "def search_countrycode(x):\n",
    "    query = \"\"\"countries[?name==\\'\"\"\" +  str(x).strip() + \"\"\"\\'].code\"\"\"\n",
    "    path = jmespath.search(query,data)\n",
    "    \n",
    "    if(path==[]):\n",
    "        return ''\n",
    "    else:\n",
    "        return path[0]\n",
    "\n",
    "    \n",
    "start = time.time()    \n",
    "df['CountryCode'] = df['Country'].apply(search_countrycode)\n",
    "end = time.time()\n",
    "\n",
    "print(end - start)"
   ]
  },
  {
   "cell_type": "code",
   "execution_count": 6,
   "metadata": {},
   "outputs": [
    {
     "data": {
      "text/html": [
       "<div>\n",
       "<style scoped>\n",
       "    .dataframe tbody tr th:only-of-type {\n",
       "        vertical-align: middle;\n",
       "    }\n",
       "\n",
       "    .dataframe tbody tr th {\n",
       "        vertical-align: top;\n",
       "    }\n",
       "\n",
       "    .dataframe thead th {\n",
       "        text-align: right;\n",
       "    }\n",
       "</style>\n",
       "<table border=\"1\" class=\"dataframe\">\n",
       "  <thead>\n",
       "    <tr style=\"text-align: right;\">\n",
       "      <th></th>\n",
       "      <th>Network</th>\n",
       "      <th>City</th>\n",
       "      <th>Country</th>\n",
       "      <th>CountryCode</th>\n",
       "    </tr>\n",
       "  </thead>\n",
       "  <tbody>\n",
       "    <tr>\n",
       "      <th>0</th>\n",
       "      <td>10.100.131.0/27</td>\n",
       "      <td>Mumbai</td>\n",
       "      <td>India</td>\n",
       "      <td>IN</td>\n",
       "    </tr>\n",
       "    <tr>\n",
       "      <th>1</th>\n",
       "      <td>10.100.131.160/27</td>\n",
       "      <td>Amsterdam</td>\n",
       "      <td>Netherlands</td>\n",
       "      <td>NL</td>\n",
       "    </tr>\n",
       "    <tr>\n",
       "      <th>2</th>\n",
       "      <td>10.100.132.0/22</td>\n",
       "      <td>Mumbai</td>\n",
       "      <td>India</td>\n",
       "      <td>IN</td>\n",
       "    </tr>\n",
       "    <tr>\n",
       "      <th>3</th>\n",
       "      <td>10.100.136.0/23</td>\n",
       "      <td>Mumbai</td>\n",
       "      <td>India</td>\n",
       "      <td>IN</td>\n",
       "    </tr>\n",
       "    <tr>\n",
       "      <th>4</th>\n",
       "      <td>10.100.138.0/23</td>\n",
       "      <td>Mumbai</td>\n",
       "      <td>India</td>\n",
       "      <td>IN</td>\n",
       "    </tr>\n",
       "  </tbody>\n",
       "</table>\n",
       "</div>"
      ],
      "text/plain": [
       "             Network       City      Country CountryCode\n",
       "0    10.100.131.0/27     Mumbai        India          IN\n",
       "1  10.100.131.160/27  Amsterdam  Netherlands          NL\n",
       "2    10.100.132.0/22     Mumbai        India          IN\n",
       "3    10.100.136.0/23     Mumbai        India          IN\n",
       "4    10.100.138.0/23     Mumbai        India          IN"
      ]
     },
     "execution_count": 6,
     "metadata": {},
     "output_type": "execute_result"
    }
   ],
   "source": [
    "df.head()"
   ]
  },
  {
   "cell_type": "code",
   "execution_count": 7,
   "metadata": {},
   "outputs": [],
   "source": [
    "df['City'].replace('', np.nan, inplace=True)\n",
    "df['Country'].replace('', np.nan, inplace=True)\n",
    "df['CountryCode'].replace('', np.nan, inplace=True)"
   ]
  },
  {
   "cell_type": "code",
   "execution_count": 8,
   "metadata": {},
   "outputs": [
    {
     "name": "stdout",
     "output_type": "stream",
     "text": [
      "Number of rows before dropping missing city or country: 15340\n",
      "Number of rows with either missing city or country: 45\n",
      "Number of rows after dropping missing city or country: 15295\n"
     ]
    }
   ],
   "source": [
    "# Find number of missing City or country and write them to a csv file\n",
    "\n",
    "print(\"Number of rows before dropping missing city or country: \"+str(len(df)))\n",
    "\n",
    "df_null_city_or_country = df[(df['City'].isna() | df['Country'].isna())]\n",
    "\n",
    "df_null_city_or_country.to_csv(\"Output/dropped02-gnoc_networks-nullcityorcountry.csv\", index=False)\n",
    "\n",
    "print(\"Number of rows with either missing city or country: \"+str(len(df_null_city_or_country)))\n",
    " \n",
    "df.dropna(subset=['Country','City'], inplace=True)\n",
    "\n",
    "print(\"Number of rows after dropping missing city or country: \"+str(len(df)))\n"
   ]
  },
  {
   "cell_type": "code",
   "execution_count": 9,
   "metadata": {},
   "outputs": [
    {
     "name": "stdout",
     "output_type": "stream",
     "text": [
      "Number of rows before dropping missing country codes: 15295\n",
      "Number of rows with missing country code: 534\n",
      "Number of rows after dropping missing city or country: 14761\n"
     ]
    }
   ],
   "source": [
    "# Find number of missing countrycodes and write them to a csv file\n",
    "\n",
    "print(\"Number of rows before dropping missing country codes: \"+str(len(df)))\n",
    "\n",
    "\n",
    "df_missing_countrycode = df[df['CountryCode'].isna()]\n",
    "\n",
    "df_missing_countrycode.to_csv(\"Output/dropped03-gnoc_networks-countrynotfound.csv\", index=False)\n",
    "\n",
    "\n",
    "print(\"Number of rows with missing country code: \"+str(len(df_missing_countrycode)))\n",
    " \n",
    "df.dropna(subset=['CountryCode'], inplace=True)\n",
    "\n",
    "print(\"Number of rows after dropping missing city or country: \"+str(len(df)))"
   ]
  },
  {
   "cell_type": "code",
   "execution_count": 10,
   "metadata": {},
   "outputs": [],
   "source": [
    "df.to_csv(\"Output/output03-gnoc_networks-countrycodes.csv\", sep=';', index=False)\n",
    "\n",
    "#logger.warning(\"CSV generated: Output/output03-gnoc_networks-countrycodes.csv \")"
   ]
  },
  {
   "cell_type": "code",
   "execution_count": null,
   "metadata": {},
   "outputs": [],
   "source": []
  }
 ],
 "metadata": {
  "kernelspec": {
   "display_name": "Python 3",
   "language": "python",
   "name": "python3"
  },
  "language_info": {
   "codemirror_mode": {
    "name": "ipython",
    "version": 3
   },
   "file_extension": ".py",
   "mimetype": "text/x-python",
   "name": "python",
   "nbconvert_exporter": "python",
   "pygments_lexer": "ipython3",
   "version": "3.7.4"
  }
 },
 "nbformat": 4,
 "nbformat_minor": 2
}
